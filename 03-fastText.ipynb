{
 "cells": [
  {
   "cell_type": "markdown",
   "metadata": {},
   "source": [
    "# 导入相关包\n",
    "参考：https://cloud.tencent.com/developer/article/1591591"
   ]
  },
  {
   "cell_type": "code",
   "execution_count": 1,
   "metadata": {},
   "outputs": [],
   "source": [
    "import torch\n",
    "import torch.nn as nn\n",
    "import torch.optim as optim\n",
    "import pandas as pd"
   ]
  },
  {
   "cell_type": "markdown",
   "metadata": {},
   "source": [
    "# 思想：就是先将词转换为向量形式，然后将这些向量加起来求平均。再去分类。"
   ]
  },
  {
   "cell_type": "code",
   "execution_count": 2,
   "metadata": {},
   "outputs": [],
   "source": [
    "class FastText(nn.Module):\n",
    "    def __init__(self, vocab, w2v_dim, classes, hidden_size):\n",
    "        super(FastText, self).__init__()\n",
    "        #创建embedding\n",
    "        self.embed = nn.Embedding(len(vocab), w2v_dim)  #embedding初始化，需要两个参数，词典大小、词向量维度大小\n",
    "        self.embed.weight.requires_grad = True #需要计算梯度，即embedding层需要被训练\n",
    "        self.fc = nn.Sequential(              #序列函数\n",
    "            nn.Linear(w2v_dim, hidden_size),  #这里的意思是先经过一个线性转换层\n",
    "            nn.BatchNorm1d(hidden_size),      #再进入一个BatchNorm1d\n",
    "            nn.ReLU(inplace=True),            #再经过Relu激活函数\n",
    "            nn.Linear(hidden_size, classes)#最后再经过一个线性变换\n",
    "        )\n",
    "\n",
    "    def forward(self, x):                      \n",
    "        x = self.embed(x)                     #先将词id转换为对应的词向量\n",
    "        out = self.fc(torch.mean(x, dim=1))   #这使用torch.mean()将向量进行平均\n",
    "        return out"
   ]
  },
  {
   "cell_type": "markdown",
   "metadata": {},
   "source": [
    "# 训练代码"
   ]
  },
  {
   "cell_type": "code",
   "execution_count": 3,
   "metadata": {},
   "outputs": [],
   "source": [
    "def train_model(net, epoch, lr, data, label):      #训练模型\n",
    "    print(\"begin training\")\n",
    "    net.train()  # 将模型设置为训练模式，很重要！\n",
    "    optimizer = optim.Adam(net.parameters(), lr=lr) #设置优化函数\n",
    "    Loss = nn.CrossEntropyLoss()  #设置损失函数\n",
    "    for i in range(epoch):  # 循环\n",
    "        optimizer.zero_grad()  # 清除所有优化的梯度\n",
    "        output = net(data)  # 传入数据，前向传播，得到预测结果\n",
    "        loss = Loss(output, target) #计算预测值和真实值之间的差异，得到loss\n",
    "        loss.backward() #loss反向传播\n",
    "        optimizer.step() #优化器优化参数\n",
    "\n",
    "        # 打印状态信息\n",
    "        print(\"train epoch=\" + str(i) + \",loss=\" + str(loss.item()))\n",
    "    print('Finished Training')"
   ]
  },
  {
   "cell_type": "markdown",
   "metadata": {},
   "source": [
    "# 验证代码"
   ]
  },
  {
   "cell_type": "code",
   "execution_count": 4,
   "metadata": {},
   "outputs": [],
   "source": [
    "def model_test(net, test_data, test_label):\n",
    "    net.eval()  # 将模型设置为验证模式\n",
    "    correct = 0\n",
    "    total = 0\n",
    "    with torch.no_grad():\n",
    "        outputs = net(test_data)\n",
    "        # torch.max()[0]表示最大值的值，troch.max()[1]表示回最大值的每个索引\n",
    "        _, predicted = torch.max(outputs.data, 1)  # 每个output是一行n列的数据，取一行中最大的值\n",
    "        total += test_label.size(0)\n",
    "        correct += (predicted == test_label).sum().item()\n",
    "        print('Accuracy: %d %%' % (100 * correct / total))"
   ]
  },
  {
   "cell_type": "markdown",
   "metadata": {},
   "source": [
    "# 超参设定"
   ]
  },
  {
   "cell_type": "code",
   "execution_count": 5,
   "metadata": {},
   "outputs": [],
   "source": [
    "batch_size = 64\n",
    "epoch = 10  # 迭代次数\n",
    "w2v_dim = 300  # 词向量维度\n",
    "lr = 0.001\n",
    "hidden_size = 128\n",
    "classes = 2"
   ]
  },
  {
   "cell_type": "markdown",
   "metadata": {},
   "source": [
    "# 训练模型"
   ]
  },
  {
   "cell_type": "code",
   "execution_count": 6,
   "metadata": {},
   "outputs": [
    {
     "ename": "NameError",
     "evalue": "name 'vocab' is not defined",
     "output_type": "error",
     "traceback": [
      "\u001b[0;31m---------------------------------------------------------------------------\u001b[0m",
      "\u001b[0;31mNameError\u001b[0m                                 Traceback (most recent call last)",
      "\u001b[0;32m<ipython-input-6-9af1c7fa8677>\u001b[0m in \u001b[0;36m<module>\u001b[0;34m\u001b[0m\n\u001b[1;32m      1\u001b[0m \u001b[0;31m# 定义模型\u001b[0m\u001b[0;34m\u001b[0m\u001b[0;34m\u001b[0m\u001b[0;34m\u001b[0m\u001b[0m\n\u001b[0;32m----> 2\u001b[0;31m \u001b[0mnet\u001b[0m \u001b[0;34m=\u001b[0m \u001b[0mFastText\u001b[0m\u001b[0;34m(\u001b[0m\u001b[0mvocab\u001b[0m\u001b[0;34m=\u001b[0m\u001b[0mvocab\u001b[0m\u001b[0;34m,\u001b[0m \u001b[0mw2v_dim\u001b[0m\u001b[0;34m=\u001b[0m\u001b[0mw2v_dim\u001b[0m\u001b[0;34m,\u001b[0m \u001b[0mclasses\u001b[0m\u001b[0;34m=\u001b[0m\u001b[0mclasses\u001b[0m\u001b[0;34m,\u001b[0m \u001b[0mhidden_size\u001b[0m\u001b[0;34m=\u001b[0m\u001b[0mhidden_size\u001b[0m\u001b[0;34m)\u001b[0m\u001b[0;34m\u001b[0m\u001b[0;34m\u001b[0m\u001b[0m\n\u001b[0m\u001b[1;32m      3\u001b[0m \u001b[0;31m# 训练\u001b[0m\u001b[0;34m\u001b[0m\u001b[0;34m\u001b[0m\u001b[0;34m\u001b[0m\u001b[0m\n\u001b[1;32m      4\u001b[0m \u001b[0mprint\u001b[0m\u001b[0;34m(\u001b[0m\u001b[0;34m\"开始训练模型\"\u001b[0m\u001b[0;34m)\u001b[0m\u001b[0;34m\u001b[0m\u001b[0;34m\u001b[0m\u001b[0m\n\u001b[1;32m      5\u001b[0m \u001b[0mtrain_model\u001b[0m\u001b[0;34m(\u001b[0m\u001b[0mnet\u001b[0m\u001b[0;34m,\u001b[0m \u001b[0mepoch\u001b[0m\u001b[0;34m,\u001b[0m \u001b[0mlr\u001b[0m\u001b[0;34m,\u001b[0m \u001b[0mdata\u001b[0m\u001b[0;34m,\u001b[0m \u001b[0mlabel\u001b[0m\u001b[0;34m)\u001b[0m\u001b[0;34m\u001b[0m\u001b[0;34m\u001b[0m\u001b[0m\n",
      "\u001b[0;31mNameError\u001b[0m: name 'vocab' is not defined"
     ]
    }
   ],
   "source": [
    "# 定义模型\n",
    "net = FastText(vocab=vocab, w2v_dim=w2v_dim, classes=classes, hidden_size=hidden_size)\n",
    "# 训练\n",
    "print(\"开始训练模型\")\n",
    "train_model(net, epoch, lr, data, label)"
   ]
  },
  {
   "cell_type": "markdown",
   "metadata": {},
   "source": [
    "# 测试模型"
   ]
  },
  {
   "cell_type": "code",
   "execution_count": null,
   "metadata": {},
   "outputs": [],
   "source": [
    "# 保存模型\n",
    "print(\"开始测试模型\")\n",
    "model_test(net, test_data, test_label)"
   ]
  }
 ],
 "metadata": {
  "kernelspec": {
   "display_name": "Python 3",
   "language": "python",
   "name": "python3"
  },
  "language_info": {
   "codemirror_mode": {
    "name": "ipython",
    "version": 3
   },
   "file_extension": ".py",
   "mimetype": "text/x-python",
   "name": "python",
   "nbconvert_exporter": "python",
   "pygments_lexer": "ipython3",
   "version": "3.6.8"
  }
 },
 "nbformat": 4,
 "nbformat_minor": 4
}
