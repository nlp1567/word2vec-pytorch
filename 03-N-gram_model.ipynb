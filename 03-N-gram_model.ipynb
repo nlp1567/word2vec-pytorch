{
 "cells": [
  {
   "cell_type": "markdown",
   "metadata": {},
   "source": [
    "# 导入相关包\n",
    "参考：https://github.com/KentoW/Ngram-language-model"
   ]
  },
  {
   "cell_type": "code",
   "execution_count": 29,
   "metadata": {},
   "outputs": [],
   "source": [
    "import sys\n",
    "import argparse\n",
    "import json\n",
    "import numpy as np\n",
    "import math\n",
    "from collections import defaultdict\n",
    "import time"
   ]
  },
  {
   "cell_type": "markdown",
   "metadata": {},
   "source": [
    "# N-gram模型"
   ]
  },
  {
   "cell_type": "code",
   "execution_count": 30,
   "metadata": {},
   "outputs": [],
   "source": [
    "class Ngram:\n",
    "    def __init__(self, input_file, N=4, smoothing='kneser-nay'):\n",
    "        if not (smoothing in ('kneser-nay', 'add', 'vanilla')):\n",
    "            sys.stderr.write('Error : specify smoothing (\"kneser-nay\" or \"add\" or \"vanilla\")\\n')\n",
    "            exit(1)\n",
    "        if N < 2 or 4 < N:\n",
    "            sys.stderr.write('Error : specify 2 <= n <= 4\\n')\n",
    "            exit(1)\n",
    "        self.voca = set()\n",
    "        self.N = N\n",
    "        self.V = 0\n",
    "        self.smoothing = smoothing\n",
    "        self.input_file = input_file\n",
    "        self.total = sum(1 for line in open(self.input_file) if not line.startswith('# '))\n",
    "        sys.stderr.write('===== Parameter =====\\n')\n",
    "        sys.stderr.write('Input file : %s\\n'%self.input_file)\n",
    "        sys.stderr.write('         N : %s\\n'%self.N)\n",
    "        sys.stderr.write(' Smoothing : %s\\n'%self.smoothing)\n",
    "        self.freqs = {}\n",
    "        self.sums = {}\n",
    "        for n in range(self.N-1):\n",
    "            self.freqs[n+2] = defaultdict(lambda: defaultdict(float))   # N-gram FREQ（分子）\n",
    "            self.sums[n+2] = defaultdict(float)                         # N-gram SUM（分母）\n",
    "        self.sets = defaultdict(lambda: set())                          # N-gram SET\n",
    "        self.bi_num = defaultdict(set)                                  # uni_P_KN的分子，如果输入一个单字，将返回最后一个单字的集合\n",
    "    \n",
    "    def train(self):\n",
    "        sys.stderr.write('\\n===== Training =====\\n')\n",
    "        count = 1\n",
    "        for strm in open(self.input_file, 'r'):\n",
    "            sys.stderr.write('\\r[' + '='*(int(20*count/self.total)) + '>' + '-'*(20-int(20*count/self.total)) + '] (%06d/%06d)'%(count, self.total))\n",
    "            if strm.startswith('#'):\n",
    "                continue\n",
    "            queue = ['<bos>', '<bos>', '<bos>']\n",
    "            for word in strm.strip().split(\" \"):\n",
    "                self.voca.add(word)\n",
    "                queue.append(word)\n",
    "                conditions = tuple(queue[-self.N:-1:])          # N-gram 概率（带条件概率的条件部分）\n",
    "                self.set_value(conditions, word)\n",
    "            count += 1\n",
    "        self.set_uni_p_kn()                                     # 最终计算kneser-nay的unigram概率\n",
    "        self.V = len(self.voca)\n",
    "        sys.stderr.write('\\nVoca size : %s\\n'%self.V)\n",
    "        \n",
    "# N-gram概率的计算，计算需要的值\n",
    "    def set_value(self, conditions, v):\n",
    "        assert len(conditions) + 1 == self.N\n",
    "        self.voca.add(v)\n",
    "        if self.N == 2:\n",
    "            condition = conditions[0]\n",
    "            self.bi_num[v].add(condition)\n",
    "            self.freqs[2][(condition, )][v] += 1\n",
    "            self.sums[2][(condition, )] += 1\n",
    "            self.sets[(condition, )].add(v)\n",
    "        elif self.N == 3:\n",
    "            condition_1 = conditions[0]\n",
    "            condition_2 = conditions[1]\n",
    "            self.bi_num[v].add(condition_2)\n",
    "            self.freqs[2][(condition_2, )][v] += 1\n",
    "            self.freqs[3][(condition_1, condition_2)][v] += 1\n",
    "            self.sums[3][(condition_1, condition_2)] += 1\n",
    "            self.sets[(condition_1, condition_2)].add(v)\n",
    "        elif self.N == 4:\n",
    "            condition_1 = conditions[0]\n",
    "            condition_2 = conditions[1]\n",
    "            condition_3 = conditions[2]\n",
    "            self.bi_num[v].add(condition_3)\n",
    "            self.freqs[2][(condition_3, )][v] += 1\n",
    "            self.freqs[3][(condition_2, condition_3)][v] += 1\n",
    "            self.freqs[4][(condition_1, condition_2, condition_3)][v] += 1\n",
    "            self.sums[4][(condition_1, condition_2, condition_3)] += 1\n",
    "            self.sets[(condition_1, condition_2, condition_3)].add(v)\n",
    "            \n",
    "    def set_uni_p_kn(self):\n",
    "        self.voca = list(self.voca)\n",
    "        freqs = [len(self.bi_num[v]) for v in self.voca]\n",
    "        S = sum(freqs)\n",
    "        self.uni_p_kn = dict(zip(self.voca, [float(freq) / S for freq in freqs]))\n",
    "        \n",
    "    def get_probs(self, conditions=['<bos>', '<bos>', '<bos>'], delta=0.5):\n",
    "        self.voca = list(self.voca)\n",
    "        conditions = list(conditions)\n",
    "        if self.smoothing == 'kneser-nay':\n",
    "            if conditions == []:\n",
    "                return [self.uni_p_kn[word] for word in self.voca]\n",
    "            else:\n",
    "                if len(conditions) >= self.N:\n",
    "                    conditions = conditions[-(self.N-1):]\n",
    "                low_prob = self.get_probs(conditions[1:])\n",
    "                N = len(conditions) + 1\n",
    "                if tuple(conditions) not in self.freqs[N]: return low_prob\n",
    "                g = 0.0 # for normalization\n",
    "                freq = []\n",
    "                for word in self.voca:\n",
    "                    c = self.freqs[N][tuple(conditions)].get(word, 0)\n",
    "                    if c > delta:\n",
    "                        g += delta\n",
    "                        c -= delta\n",
    "                    freq.append(c)\n",
    "                n = sum(self.freqs[N][tuple(conditions)].values())\n",
    "                return [(c + g * lp) / n for c, lp in zip(freq, low_prob)]      # 在这儿，会有返回零的时候（这是正常现象）\n",
    "        elif self.smoothing == 'add':\n",
    "            if len(conditions) >= self.N:\n",
    "                conditions = conditions[-(self.N-1):]\n",
    "            return [(self.freqs[self.N][tuple(conditions)].get(word, 0)+delta)/(self.sums[self.N][tuple(conditions)]+delta*self.V) for word in self.voca]\n",
    "        else:\n",
    "            if len(conditions) >= self.N:\n",
    "                conditions = conditions[-(self.N-1):]\n",
    "            return [self.freqs[self.N][tuple(conditions)].get(word, 0)/self.sums[self.N][tuple(conditions)] for word in self.voca]\n",
    "        \n",
    "    def ppl(self, input_file, delta=0.5):\n",
    "        sys.stderr.write('\\n===== Perplexity =====\\n')\n",
    "        count = 1\n",
    "        log_prob = 0.0\n",
    "        total_words = 0.0\n",
    "        word2idx = {v:int(i) for i, v in enumerate(self.voca)}\n",
    "        for strm in open(input_file, 'r'):\n",
    "            sys.stderr.write('\\r[' + '='*(int(20*count/self.total)) + '>' + '-'*(20-int(20*count/self.total)) + '] (%06d/%06d)'%(count, self.total))\n",
    "            if strm.startswith('#'):\n",
    "                continue\n",
    "            queue = ['<bos>', '<bos>', '<bos>']\n",
    "            for word in strm.strip().split(\" \"):\n",
    "                queue.append(word)\n",
    "                conditions = tuple(queue[-self.N:-1:])\n",
    "                probs = self.get_probs(conditions, delta)\n",
    "                log_prob += math.log(probs[word2idx[word]], 2)\n",
    "                total_words += 1\n",
    "            count += 1\n",
    "            #if count == 10: break                               # TODO For Debug\n",
    "        neg_log_prob = -log_prob\n",
    "        entropy = neg_log_prob / total_words\n",
    "        ppl = math.pow(2, entropy)\n",
    "        sys.stderr.write('\\nPerplexity : %s\\n'%ppl)\n",
    "        return ppl\n",
    "    \n",
    "    def generate(self, window=5, mode='sample', temprature=1.0, max_word=20, delta=0.5):\n",
    "        sys.stderr.write('\\n===== Generation =====\\n')\n",
    "        word2idx = {v:int(i) for i, v in enumerate(self.voca)}\n",
    "        idx2word = {int(i):v for i, v in enumerate(self.voca)}\n",
    "        prob_forward = [[] for l in range(max_word)]       # prob_forward[t] = [(word_path, prob), ...]\n",
    "        for t in range(max_word):       # 最大字长\n",
    "            sys.stderr.write('\\r[' + '='*(int(20*(t+1)/max_word)) + '>' + '-'*(20-int(20*(t+1)/max_word)) + '] (%03d/%03d)'%(t+1, max_word))\n",
    "            if t == 0: \n",
    "                path = ('<bos>', '<bos>', '<bos>')\n",
    "                probs = self.get_probs(path, delta)\n",
    "                if mode == 'sample':\n",
    "                    stack = set()\n",
    "                    for s in range(10*window):\n",
    "                        new_index = sample(probs, temprature)\n",
    "                        new_word = idx2word[new_index]\n",
    "                        new_path = path + (new_word, )\n",
    "                        prob = math.log(probs[new_index])\n",
    "                        stack.add((new_path, prob))\n",
    "                        if len(stack) >= window:\n",
    "                            break\n",
    "                    for new in stack:\n",
    "                        prob_forward[t].append(new)\n",
    "                elif mode=='greedy':\n",
    "                    for new_index in np.array(probs).argsort()[-window:][::-1]:\n",
    "                        new_word = idx2word[new_index]\n",
    "                        new_path = path + (new_word, )\n",
    "                        prob = math.log(probs[new_index])\n",
    "                        prob_forward[t].append((new_path, prob))\n",
    "                else:\n",
    "                    sys.stderr.write('Erorr: specify generation mode (\"sample\" or \"greedy\")\\n')\n",
    "                    exit(1)\n",
    "            else:\n",
    "                stack = set()\n",
    "                for old_path, old_prob in prob_forward[t-1]:\n",
    "                    conditions = old_path[-self.N+1::]\n",
    "                    probs = self.get_probs(conditions, delta)\n",
    "                    temp_stack = set()\n",
    "                    if mode == 'sample':\n",
    "                        for s in range(10*window):\n",
    "                            new_index = sample(probs, temprature)\n",
    "                            new_word = idx2word[new_index]\n",
    "                            new_path = old_path + (new_word, )\n",
    "                            new_prob = math.log(probs[new_index]) + old_prob\n",
    "                            temp_stack.add((new_path, new_prob))\n",
    "                            if len(temp_stack) >= window:\n",
    "                                stack = stack.union(temp_stack)\n",
    "                                break\n",
    "                    elif mode=='greedy':\n",
    "                        for new_index in np.array(probs).argsort()[-window:][::-1]:\n",
    "                            new_word = idx2word[new_index]\n",
    "                            new_path = old_path + (new_word, )\n",
    "                            new_prob = math.log(probs[new_index]) + old_prob\n",
    "                            temp_stack.add((new_path, new_prob))\n",
    "                        stack = stack.union(temp_stack)\n",
    "                for path, prob in sorted(list(stack), key=lambda x:x[1], reverse=True)[:window:]:\n",
    "                    prob_forward[t].append((path, prob))\n",
    "        sys.stderr.write('\\n\\n')\n",
    "        return prob_forward[-1]"
   ]
  },
  {
   "cell_type": "markdown",
   "metadata": {},
   "source": [
    "# 装载文件"
   ]
  },
  {
   "cell_type": "code",
   "execution_count": 35,
   "metadata": {},
   "outputs": [
    {
     "name": "stderr",
     "output_type": "stream",
     "text": [
      "===== Parameter =====\n",
      "Input file : corpus.txt\n",
      "         N : 3\n",
      " Smoothing : kneser-nay\n"
     ]
    }
   ],
   "source": [
    "ngram = Ngram(input_file='corpus.txt', N=3, smoothing='kneser-nay')"
   ]
  },
  {
   "cell_type": "code",
   "execution_count": 36,
   "metadata": {},
   "outputs": [
    {
     "name": "stderr",
     "output_type": "stream",
     "text": [
      "\n",
      "===== Training =====\n",
      "[====================>] (000062/000062)\n",
      "Voca size : 18\n",
      "\n",
      "===== Perplexity =====\n",
      "[====================>] (000062/000062)\n",
      "Perplexity : 4.027306190283669\n"
     ]
    },
    {
     "data": {
      "text/plain": [
       "4.027306190283669"
      ]
     },
     "execution_count": 36,
     "metadata": {},
     "output_type": "execute_result"
    }
   ],
   "source": [
    "ngram.train()\n",
    "ngram.ppl(input_file='corpus.txt')               #ATTENTION!! very slow"
   ]
  },
  {
   "cell_type": "code",
   "execution_count": 37,
   "metadata": {},
   "outputs": [],
   "source": [
    "def sample(preds, temperature=1.0):         # 未经许可即可归一化\n",
    "    preds = np.asarray(preds).astype('float64')\n",
    "    preds = np.log(preds) / temperature\n",
    "    exp_preds = np.exp(preds)\n",
    "    preds = exp_preds / np.sum(exp_preds)\n",
    "    probas = np.random.multinomial(1, preds, 1)\n",
    "    return np.argmax(probas)"
   ]
  },
  {
   "cell_type": "code",
   "execution_count": 38,
   "metadata": {},
   "outputs": [
    {
     "name": "stdout",
     "output_type": "stream",
     "text": [
      "生成結果\n",
      "-84.01545742019138 如果是对未知的新公司的恐惧，那就让他尝试去找新的工作，找曾经的同事看机会，毕竟有熟人更容易适应新的环境，增加老公的自信心。如果想劝老公离开，就要找到他的职业锚，然后打破它！如果这位老公自己也对这份工资比较不满意，建议和他说说，让他和老板谈谈，看能不能调整一下工资。因为他不愿意换工作，找老板谈谈是最简单损失最小的办法了。不用换工作，也可能换来自己想要的工资。如果他实在不想离开现在的一切，那么如果工作时间不那么紧张，还有空余时间能发展一门副业，增加收入也可以。作为男性这么点工资更有压力的，虽说男女平等，但实际上这个社会对男性的赚钱能力还是要求比较高的。在找老板谈之前，先总结自己的优势劣势，最好是能了解一下行情，最好是能够先各方面了解一下同行业的同水平的薪资待遇。这样心里有底，谈判不慌。至于谈判技巧，网上随便搜搜有很多文章，这里不做赘述。如果是对未知的新公司的恐惧，那就让他尝试去找新的工作，找曾经的同事看机会，毕竟有熟人更容易适应新的环境，增加老公的自信心。总之要有理有据地说服老公，两个人达成共识，就是需要开辟新的财源。加油！总之要有理有据地说服老公，两个人达成共识，就是需要开辟新的财源。加油！最近在网上看到个问题，就是有人的老公在一个公司工作八年，月薪一直3000元，还不愿意找新的工作。有很多网友响应支招，而小葵认为这件事的根源不是在公司，而是在这位老公身上。很难想象一个人八年不涨工资还不愿意换工作，曾经也看过一个案例，也是工资很低老板不给涨薪，他是创业级员工，不愿意轻易离开，但是他会去找老板谈加薪。3.帮老公开展副业在找老板谈之前，先总结自己的优势劣势，最好是能了解一下行情，最好是能够先各方面了解一下同行业的同水平的薪资待遇。这样心里有底，谈判不慌。至于谈判技巧，网上随便搜搜有很多文章，这里不做赘述。职业锚就是那个能让你沉于工作岗位，不轻易离开的东西。有的是兴趣，有的是人际关系，有的是工资待遇，总之就是那种能让你不跳槽的东西，抓住你在这个地方干下去的那个理由。如果这位老公自己也对这份工资比较不满意，建议和他说说，让他和老板谈谈，看能不能调整一下工资。因为他不愿意换工作，找老板谈谈是最简单损失最小的办法了。不用换工作，也可能换来自己想要的工资。3.帮老公开展副业有了保底收入，也有地方交着保险，再开展一门副业，也可谓两全其美了。作为男性这么点工资更有压力的，虽说男女平等，但实际上这个社会对男性的赚钱能力还是要求比较高的。有了保底收入，也有地方交着保险，再开展一门副业，也可谓两全其美了。2.找到老公的职业锚，敲碎它总之，就是兵来将挡水来土掩，搞定职业锚。职业锚就是那个能让你沉于工作岗位，不轻易离开的东西。有的是兴趣，有的是人际关系，有的是工资待遇，总之就是那种能让你不跳槽的东西，抓住你在这个地方干下去的那个理由。如果他实在不想离开现在的一切，那么如果工作时间不那么紧张，还有空余时间能发展一门副业，增加收入也可以。现在月薪3000元，基本不够生活开支的，尤其是上有老下有小的阶段。很多城市的最低工资标准都达到2000多了，3000元只是在贫穷的边缘徘徊。总之，就是兵来将挡水来土掩，搞定职业锚。3.帮老公开展副业总之要有理有据地说服老公，两个人达成共识，就是需要开辟新的财源。加油！一个人如果工资不涨，也不愿离开，还不愿涨薪？那么就是难以理解了。小葵很心疼这位身为老婆的提问者，个人建议可以试着做这几点：总之要有理有据地说服老公，两个人达成共识，就是需要开辟新的财源。加油！3.帮老公开展副业\n",
      "-84.01545742019138 如果是对未知的新公司的恐惧，那就让他尝试去找新的工作，找曾经的同事看机会，毕竟有熟人更容易适应新的环境，增加老公的自信心。如果想劝老公离开，就要找到他的职业锚，然后打破它！如果这位老公自己也对这份工资比较不满意，建议和他说说，让他和老板谈谈，看能不能调整一下工资。因为他不愿意换工作，找老板谈谈是最简单损失最小的办法了。不用换工作，也可能换来自己想要的工资。如果他实在不想离开现在的一切，那么如果工作时间不那么紧张，还有空余时间能发展一门副业，增加收入也可以。作为男性这么点工资更有压力的，虽说男女平等，但实际上这个社会对男性的赚钱能力还是要求比较高的。在找老板谈之前，先总结自己的优势劣势，最好是能了解一下行情，最好是能够先各方面了解一下同行业的同水平的薪资待遇。这样心里有底，谈判不慌。至于谈判技巧，网上随便搜搜有很多文章，这里不做赘述。如果是对未知的新公司的恐惧，那就让他尝试去找新的工作，找曾经的同事看机会，毕竟有熟人更容易适应新的环境，增加老公的自信心。总之要有理有据地说服老公，两个人达成共识，就是需要开辟新的财源。加油！总之要有理有据地说服老公，两个人达成共识，就是需要开辟新的财源。加油！有了保底收入，也有地方交着保险，再开展一门副业，也可谓两全其美了。1.找老板谈如果是对公司的感情，那么就找一些证明公司对他并不像他对公司那么有感情的例证。很多人会幻想着自己对公司很重要，公司很看重自己，而实际上公司离了谁都能转。总之要有理有据地说服老公，两个人达成共识，就是需要开辟新的财源。加油！2.找到老公的职业锚，敲碎它如果想劝老公离开，就要找到他的职业锚，然后打破它！有了保底收入，也有地方交着保险，再开展一门副业，也可谓两全其美了。最近在网上看到个问题，就是有人的老公在一个公司工作八年，月薪一直3000元，还不愿意找新的工作。有很多网友响应支招，而小葵认为这件事的根源不是在公司，而是在这位老公身上。很难想象一个人八年不涨工资还不愿意换工作，曾经也看过一个案例，也是工资很低老板不给涨薪，他是创业级员工，不愿意轻易离开，但是他会去找老板谈加薪。总之，就是兵来将挡水来土掩，搞定职业锚。总之，就是兵来将挡水来土掩，搞定职业锚。如果这位老公自己也对这份工资比较不满意，建议和他说说，让他和老板谈谈，看能不能调整一下工资。因为他不愿意换工作，找老板谈谈是最简单损失最小的办法了。不用换工作，也可能换来自己想要的工资。最近在网上看到个问题，就是有人的老公在一个公司工作八年，月薪一直3000元，还不愿意找新的工作。有很多网友响应支招，而小葵认为这件事的根源不是在公司，而是在这位老公身上。很难想象一个人八年不涨工资还不愿意换工作，曾经也看过一个案例，也是工资很低老板不给涨薪，他是创业级员工，不愿意轻易离开，但是他会去找老板谈加薪。如果他实在不想离开现在的一切，那么如果工作时间不那么紧张，还有空余时间能发展一门副业，增加收入也可以。如果他实在不想离开现在的一切，那么如果工作时间不那么紧张，还有空余时间能发展一门副业，增加收入也可以。有了保底收入，也有地方交着保险，再开展一门副业，也可谓两全其美了。职业锚就是那个能让你沉于工作岗位，不轻易离开的东西。有的是兴趣，有的是人际关系，有的是工资待遇，总之就是那种能让你不跳槽的东西，抓住你在这个地方干下去的那个理由。作为男性这么点工资更有压力的，虽说男女平等，但实际上这个社会对男性的赚钱能力还是要求比较高的。一个人如果工资不涨，也不愿离开，还不愿涨薪？那么就是难以理解了。小葵很心疼这位身为老婆的提问者，个人建议可以试着做这几点：如果想劝老公离开，就要找到他的职业锚，然后打破它！\n",
      "-84.01545742019138 如果是对未知的新公司的恐惧，那就让他尝试去找新的工作，找曾经的同事看机会，毕竟有熟人更容易适应新的环境，增加老公的自信心。如果想劝老公离开，就要找到他的职业锚，然后打破它！如果这位老公自己也对这份工资比较不满意，建议和他说说，让他和老板谈谈，看能不能调整一下工资。因为他不愿意换工作，找老板谈谈是最简单损失最小的办法了。不用换工作，也可能换来自己想要的工资。如果他实在不想离开现在的一切，那么如果工作时间不那么紧张，还有空余时间能发展一门副业，增加收入也可以。作为男性这么点工资更有压力的，虽说男女平等，但实际上这个社会对男性的赚钱能力还是要求比较高的。在找老板谈之前，先总结自己的优势劣势，最好是能了解一下行情，最好是能够先各方面了解一下同行业的同水平的薪资待遇。这样心里有底，谈判不慌。至于谈判技巧，网上随便搜搜有很多文章，这里不做赘述。如果是对未知的新公司的恐惧，那就让他尝试去找新的工作，找曾经的同事看机会，毕竟有熟人更容易适应新的环境，增加老公的自信心。总之要有理有据地说服老公，两个人达成共识，就是需要开辟新的财源。加油！总之要有理有据地说服老公，两个人达成共识，就是需要开辟新的财源。加油！最近在网上看到个问题，就是有人的老公在一个公司工作八年，月薪一直3000元，还不愿意找新的工作。有很多网友响应支招，而小葵认为这件事的根源不是在公司，而是在这位老公身上。很难想象一个人八年不涨工资还不愿意换工作，曾经也看过一个案例，也是工资很低老板不给涨薪，他是创业级员工，不愿意轻易离开，但是他会去找老板谈加薪。3.帮老公开展副业在找老板谈之前，先总结自己的优势劣势，最好是能了解一下行情，最好是能够先各方面了解一下同行业的同水平的薪资待遇。这样心里有底，谈判不慌。至于谈判技巧，网上随便搜搜有很多文章，这里不做赘述。职业锚就是那个能让你沉于工作岗位，不轻易离开的东西。有的是兴趣，有的是人际关系，有的是工资待遇，总之就是那种能让你不跳槽的东西，抓住你在这个地方干下去的那个理由。如果这位老公自己也对这份工资比较不满意，建议和他说说，让他和老板谈谈，看能不能调整一下工资。因为他不愿意换工作，找老板谈谈是最简单损失最小的办法了。不用换工作，也可能换来自己想要的工资。3.帮老公开展副业有了保底收入，也有地方交着保险，再开展一门副业，也可谓两全其美了。作为男性这么点工资更有压力的，虽说男女平等，但实际上这个社会对男性的赚钱能力还是要求比较高的。有了保底收入，也有地方交着保险，再开展一门副业，也可谓两全其美了。2.找到老公的职业锚，敲碎它总之，就是兵来将挡水来土掩，搞定职业锚。职业锚就是那个能让你沉于工作岗位，不轻易离开的东西。有的是兴趣，有的是人际关系，有的是工资待遇，总之就是那种能让你不跳槽的东西，抓住你在这个地方干下去的那个理由。如果他实在不想离开现在的一切，那么如果工作时间不那么紧张，还有空余时间能发展一门副业，增加收入也可以。现在月薪3000元，基本不够生活开支的，尤其是上有老下有小的阶段。很多城市的最低工资标准都达到2000多了，3000元只是在贫穷的边缘徘徊。总之，就是兵来将挡水来土掩，搞定职业锚。3.帮老公开展副业职业锚就是那个能让你沉于工作岗位，不轻易离开的东西。有的是兴趣，有的是人际关系，有的是工资待遇，总之就是那种能让你不跳槽的东西，抓住你在这个地方干下去的那个理由。如果他实在不想离开现在的一切，那么如果工作时间不那么紧张，还有空余时间能发展一门副业，增加收入也可以。如果是对未知的新公司的恐惧，那就让他尝试去找新的工作，找曾经的同事看机会，毕竟有熟人更容易适应新的环境，增加老公的自信心。如果是对公司的感情，那么就找一些证明公司对他并不像他对公司那么有感情的例证。很多人会幻想着自己对公司很重要，公司很看重自己，而实际上公司离了谁都能转。\n",
      "-84.01545742019138 如果是对未知的新公司的恐惧，那就让他尝试去找新的工作，找曾经的同事看机会，毕竟有熟人更容易适应新的环境，增加老公的自信心。如果想劝老公离开，就要找到他的职业锚，然后打破它！如果这位老公自己也对这份工资比较不满意，建议和他说说，让他和老板谈谈，看能不能调整一下工资。因为他不愿意换工作，找老板谈谈是最简单损失最小的办法了。不用换工作，也可能换来自己想要的工资。如果他实在不想离开现在的一切，那么如果工作时间不那么紧张，还有空余时间能发展一门副业，增加收入也可以。作为男性这么点工资更有压力的，虽说男女平等，但实际上这个社会对男性的赚钱能力还是要求比较高的。在找老板谈之前，先总结自己的优势劣势，最好是能了解一下行情，最好是能够先各方面了解一下同行业的同水平的薪资待遇。这样心里有底，谈判不慌。至于谈判技巧，网上随便搜搜有很多文章，这里不做赘述。如果是对未知的新公司的恐惧，那就让他尝试去找新的工作，找曾经的同事看机会，毕竟有熟人更容易适应新的环境，增加老公的自信心。总之要有理有据地说服老公，两个人达成共识，就是需要开辟新的财源。加油！总之要有理有据地说服老公，两个人达成共识，就是需要开辟新的财源。加油！最近在网上看到个问题，就是有人的老公在一个公司工作八年，月薪一直3000元，还不愿意找新的工作。有很多网友响应支招，而小葵认为这件事的根源不是在公司，而是在这位老公身上。很难想象一个人八年不涨工资还不愿意换工作，曾经也看过一个案例，也是工资很低老板不给涨薪，他是创业级员工，不愿意轻易离开，但是他会去找老板谈加薪。3.帮老公开展副业在找老板谈之前，先总结自己的优势劣势，最好是能了解一下行情，最好是能够先各方面了解一下同行业的同水平的薪资待遇。这样心里有底，谈判不慌。至于谈判技巧，网上随便搜搜有很多文章，这里不做赘述。职业锚就是那个能让你沉于工作岗位，不轻易离开的东西。有的是兴趣，有的是人际关系，有的是工资待遇，总之就是那种能让你不跳槽的东西，抓住你在这个地方干下去的那个理由。如果这位老公自己也对这份工资比较不满意，建议和他说说，让他和老板谈谈，看能不能调整一下工资。因为他不愿意换工作，找老板谈谈是最简单损失最小的办法了。不用换工作，也可能换来自己想要的工资。3.帮老公开展副业有了保底收入，也有地方交着保险，再开展一门副业，也可谓两全其美了。作为男性这么点工资更有压力的，虽说男女平等，但实际上这个社会对男性的赚钱能力还是要求比较高的。有了保底收入，也有地方交着保险，再开展一门副业，也可谓两全其美了。2.找到老公的职业锚，敲碎它总之，就是兵来将挡水来土掩，搞定职业锚。职业锚就是那个能让你沉于工作岗位，不轻易离开的东西。有的是兴趣，有的是人际关系，有的是工资待遇，总之就是那种能让你不跳槽的东西，抓住你在这个地方干下去的那个理由。如果他实在不想离开现在的一切，那么如果工作时间不那么紧张，还有空余时间能发展一门副业，增加收入也可以。现在月薪3000元，基本不够生活开支的，尤其是上有老下有小的阶段。很多城市的最低工资标准都达到2000多了，3000元只是在贫穷的边缘徘徊。总之，就是兵来将挡水来土掩，搞定职业锚。3.帮老公开展副业总之要有理有据地说服老公，两个人达成共识，就是需要开辟新的财源。加油！一个人如果工资不涨，也不愿离开，还不愿涨薪？那么就是难以理解了。小葵很心疼这位身为老婆的提问者，个人建议可以试着做这几点：总之要有理有据地说服老公，两个人达成共识，就是需要开辟新的财源。加油！如果这位老公自己也对这份工资比较不满意，建议和他说说，让他和老板谈谈，看能不能调整一下工资。因为他不愿意换工作，找老板谈谈是最简单损失最小的办法了。不用换工作，也可能换来自己想要的工资。\n",
      "-84.01545742019138 如果是对未知的新公司的恐惧，那就让他尝试去找新的工作，找曾经的同事看机会，毕竟有熟人更容易适应新的环境，增加老公的自信心。如果想劝老公离开，就要找到他的职业锚，然后打破它！如果这位老公自己也对这份工资比较不满意，建议和他说说，让他和老板谈谈，看能不能调整一下工资。因为他不愿意换工作，找老板谈谈是最简单损失最小的办法了。不用换工作，也可能换来自己想要的工资。如果他实在不想离开现在的一切，那么如果工作时间不那么紧张，还有空余时间能发展一门副业，增加收入也可以。作为男性这么点工资更有压力的，虽说男女平等，但实际上这个社会对男性的赚钱能力还是要求比较高的。在找老板谈之前，先总结自己的优势劣势，最好是能了解一下行情，最好是能够先各方面了解一下同行业的同水平的薪资待遇。这样心里有底，谈判不慌。至于谈判技巧，网上随便搜搜有很多文章，这里不做赘述。如果是对未知的新公司的恐惧，那就让他尝试去找新的工作，找曾经的同事看机会，毕竟有熟人更容易适应新的环境，增加老公的自信心。总之要有理有据地说服老公，两个人达成共识，就是需要开辟新的财源。加油！总之要有理有据地说服老公，两个人达成共识，就是需要开辟新的财源。加油！有了保底收入，也有地方交着保险，再开展一门副业，也可谓两全其美了。1.找老板谈如果是对公司的感情，那么就找一些证明公司对他并不像他对公司那么有感情的例证。很多人会幻想着自己对公司很重要，公司很看重自己，而实际上公司离了谁都能转。总之要有理有据地说服老公，两个人达成共识，就是需要开辟新的财源。加油！2.找到老公的职业锚，敲碎它如果想劝老公离开，就要找到他的职业锚，然后打破它！有了保底收入，也有地方交着保险，再开展一门副业，也可谓两全其美了。最近在网上看到个问题，就是有人的老公在一个公司工作八年，月薪一直3000元，还不愿意找新的工作。有很多网友响应支招，而小葵认为这件事的根源不是在公司，而是在这位老公身上。很难想象一个人八年不涨工资还不愿意换工作，曾经也看过一个案例，也是工资很低老板不给涨薪，他是创业级员工，不愿意轻易离开，但是他会去找老板谈加薪。总之，就是兵来将挡水来土掩，搞定职业锚。总之，就是兵来将挡水来土掩，搞定职业锚。如果这位老公自己也对这份工资比较不满意，建议和他说说，让他和老板谈谈，看能不能调整一下工资。因为他不愿意换工作，找老板谈谈是最简单损失最小的办法了。不用换工作，也可能换来自己想要的工资。最近在网上看到个问题，就是有人的老公在一个公司工作八年，月薪一直3000元，还不愿意找新的工作。有很多网友响应支招，而小葵认为这件事的根源不是在公司，而是在这位老公身上。很难想象一个人八年不涨工资还不愿意换工作，曾经也看过一个案例，也是工资很低老板不给涨薪，他是创业级员工，不愿意轻易离开，但是他会去找老板谈加薪。如果他实在不想离开现在的一切，那么如果工作时间不那么紧张，还有空余时间能发展一门副业，增加收入也可以。如果他实在不想离开现在的一切，那么如果工作时间不那么紧张，还有空余时间能发展一门副业，增加收入也可以。有了保底收入，也有地方交着保险，再开展一门副业，也可谓两全其美了。职业锚就是那个能让你沉于工作岗位，不轻易离开的东西。有的是兴趣，有的是人际关系，有的是工资待遇，总之就是那种能让你不跳槽的东西，抓住你在这个地方干下去的那个理由。作为男性这么点工资更有压力的，虽说男女平等，但实际上这个社会对男性的赚钱能力还是要求比较高的。如果想劝老公离开，就要找到他的职业锚，然后打破它！\n"
     ]
    },
    {
     "name": "stderr",
     "output_type": "stream",
     "text": [
      "\n",
      "===== Generation =====\n",
      "[====================>] (030/030)\n",
      "\n"
     ]
    }
   ],
   "source": [
    "generated_list = ngram.generate(window=5, mode='sample', temprature=1.1, max_word=30, delta=0.5)\n",
    "\n",
    "print(\"生成結果\")\n",
    "for words, log_prob in generated_list:\n",
    "    print(log_prob, \"\".join(words[3::]))"
   ]
  },
  {
   "cell_type": "code",
   "execution_count": null,
   "metadata": {},
   "outputs": [],
   "source": []
  }
 ],
 "metadata": {
  "kernelspec": {
   "display_name": "Python 3",
   "language": "python",
   "name": "python3"
  },
  "language_info": {
   "codemirror_mode": {
    "name": "ipython",
    "version": 3
   },
   "file_extension": ".py",
   "mimetype": "text/x-python",
   "name": "python",
   "nbconvert_exporter": "python",
   "pygments_lexer": "ipython3",
   "version": "3.6.8"
  }
 },
 "nbformat": 4,
 "nbformat_minor": 4
}
