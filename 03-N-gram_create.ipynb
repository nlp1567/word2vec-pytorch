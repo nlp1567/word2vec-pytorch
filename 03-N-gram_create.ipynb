{
 "cells": [
  {
   "cell_type": "markdown",
   "metadata": {},
   "source": [
    "# 1. 如何制作N-gram"
   ]
  },
  {
   "cell_type": "markdown",
   "metadata": {},
   "source": [
    "## 1.1 什么是N-gram\n",
    "----------------\n",
    "当我进行100次自然语言处理时，我认为有些人可能会碰到N-gram的墙，因此我将对其进行简要总结。"
   ]
  },
  {
   "cell_type": "markdown",
   "metadata": {},
   "source": [
    ">一种文本划分方法，该方法将任意字符串或文档按连续的n个字符进行划分。\n",
    "特别地，当n为1时，称为uni-gram；当n为2时，称为bigram；当其为3时，称为tri-gram。"
   ]
  },
  {
   "cell_type": "markdown",
   "metadata": {},
   "source": [
    "## 1.2 N-gram示例\n",
    "-----------------"
   ]
  },
  {
   "cell_type": "markdown",
   "metadata": {},
   "source": [
    "如果考虑一个例子，就很容易理解。\n",
    "例如：今天天气真好。让我们将句子更改为N-gram。\n",
    "\n",
    "## N=1 unigram\n",
    "于是一个字一个字排列出来，就变成下面这样了。"
   ]
  },
  {
   "cell_type": "code",
   "execution_count": 4,
   "metadata": {},
   "outputs": [
    {
     "data": {
      "text/plain": [
       "('今', '天', '天', '气', '真', '好', '。')"
      ]
     },
     "execution_count": 4,
     "metadata": {},
     "output_type": "execute_result"
    }
   ],
   "source": [
    "'今', '天', '天', '气', '真', '好', '。'"
   ]
  },
  {
   "cell_type": "markdown",
   "metadata": {},
   "source": [
    "## N=2 bigram\n",
    "于是两个字两个字排列出来，就变成下面这样了。"
   ]
  },
  {
   "cell_type": "code",
   "execution_count": 5,
   "metadata": {},
   "outputs": [
    {
     "data": {
      "text/plain": [
       "('今天', '天天', '天气', '气真', '真好', '好。')"
      ]
     },
     "execution_count": 5,
     "metadata": {},
     "output_type": "execute_result"
    }
   ],
   "source": [
    "'今天', '天天', '天气', '气真','真好','好。'"
   ]
  },
  {
   "cell_type": "markdown",
   "metadata": {},
   "source": [
    "## N=3 trigram\n",
    "于是三个字三个字排列出来，就变成下面这样了。"
   ]
  },
  {
   "cell_type": "code",
   "execution_count": 6,
   "metadata": {},
   "outputs": [
    {
     "data": {
      "text/plain": [
       "('今天天', '天天气', '天气真', '气真好', '真好。')"
      ]
     },
     "execution_count": 6,
     "metadata": {},
     "output_type": "execute_result"
    }
   ],
   "source": [
    "'今天天', '天天气', '天气真', '气真好', '真好。'"
   ]
  },
  {
   "cell_type": "markdown",
   "metadata": {},
   "source": [
    "## 1.3 优点\n",
    "\n",
    "无需字典\n",
    "\n",
    "- 虽然形态分析需要词典，但没有词典也可以切出字。（仅以字为单位）\n",
    "\n",
    "## 1.4 缺点\n",
    "\n",
    "会产生噪音\n",
    "\n",
    "- 搜索结果不正确\n",
    "    - 它与字典中的单字没有分隔，因此当你尝试使用它进行搜索时，会产生噪音。"
   ]
  },
  {
   "cell_type": "markdown",
   "metadata": {},
   "source": [
    "# 1.5 n-gram源代码如下："
   ]
  },
  {
   "cell_type": "code",
   "execution_count": 15,
   "metadata": {},
   "outputs": [
    {
     "name": "stdout",
     "output_type": "stream",
     "text": [
      "['今', '天', '天', '气', '真', '好', '。']\n",
      "['今天', '天天', '天气', '气真', '真好', '好。']\n",
      "['今天天', '天天气', '天气真', '气真好', '真好。']\n"
     ]
    }
   ],
   "source": [
    "def n_gram(target, n):\n",
    "  # 提取n个字，同时通过＃1开始的字移动\n",
    "  return [ target[idx:idx + n] for idx in range(len(target) - n + 1)]\n",
    "\n",
    "target = \"今天天气真好。\"\n",
    "\n",
    "# unigram\n",
    "print(n_gram(target, 1))\n",
    "\n",
    "# bigram\n",
    "print(n_gram(target, 2))\n",
    "\n",
    "# trigram\n",
    "print(n_gram(target, 3))"
   ]
  },
  {
   "cell_type": "code",
   "execution_count": null,
   "metadata": {},
   "outputs": [],
   "source": []
  },
  {
   "cell_type": "code",
   "execution_count": null,
   "metadata": {},
   "outputs": [],
   "source": []
  }
 ],
 "metadata": {
  "kernelspec": {
   "display_name": "Python 3",
   "language": "python",
   "name": "python3"
  },
  "language_info": {
   "codemirror_mode": {
    "name": "ipython",
    "version": 3
   },
   "file_extension": ".py",
   "mimetype": "text/x-python",
   "name": "python",
   "nbconvert_exporter": "python",
   "pygments_lexer": "ipython3",
   "version": "3.6.8"
  }
 },
 "nbformat": 4,
 "nbformat_minor": 4
}
